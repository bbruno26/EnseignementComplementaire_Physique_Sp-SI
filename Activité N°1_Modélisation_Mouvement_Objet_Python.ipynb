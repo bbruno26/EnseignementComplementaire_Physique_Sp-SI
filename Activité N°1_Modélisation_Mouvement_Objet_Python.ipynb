{
 "cells": [
  {
   "cell_type": "markdown",
   "metadata": {},
   "source": [
    "# --------------------------------ACTIVITE N°1 LOI HORAIRE-------------------------------- \n",
    "\n",
    "PHYSIQUE CHIMIE Enseignement complémentaire en spécialité SI\n",
    "\n",
    "------------------------------------\n",
    "\n",
    "\n",
    "## 1. Position du problème\n",
    "L’objectif de cette activité est de se familiariser avec\n",
    "quelques méthodes graphiques Python en vue de tracer\n",
    "une courbe représentative de la loi horaire d’un phénomène\n",
    "physique.\n",
    "Pour illustrer notre propos, on s’intéresse à la chute libre\n",
    "d’un corps lâché sans vitesse initiale et pour lequel l’influence\n",
    "des frottements peut être négligée. Cette situation,\n",
    "à seul degré de liberté, peut être modélisée par une équation\n",
    "différentielle. Sa solution analytique peut être aisément\n",
    "trouvée. Python est utilisé pour tracer la loi\n",
    "horaire du mouvement du corps."
   ]
  },
  {
   "attachments": {
    "image.png": {
     "image/png": "[encoded data removed]"
    }
   },
   "cell_type": "markdown",
   "metadata": {},
   "source": [
    "## 2. Mise en équation\n",
    "Un point matériel M de masse m est soumis aucune\n",
    "force. Le mouvement de M est étudié dans un\n",
    "référentiel local supposé galiléen. L'objet possède juste une vitesse initiale, $v_{0}$.\n",
    "Le point M est laché initialement sur une table, avec la\n",
    "vitesse initiale $v_{0}$. Le schéma ci-dessous illustre la situation.\n",
    "À un instant t E 0, on note x(t) et y(t) les cotes du point M. Le premier \n",
    "principe fondamental de la dynamique permet d’établir la\n",
    "loi d’évolution de x(t) et y(t) sous la forme d’une équation.\n",
    "![image.png](attachment:image.png)\n",
    "\n",
    "Les coordonnées du vecteur vitesse initiales sont :\n",
    "\n",
    "\n",
    "$$\\mathbf [\\overrightarrow{v_0}] = \\left[\\begin{array}\n",
    "{r}\n",
    "v_{0x}\\\\\n",
    "v_{0y}\\\\\n",
    "\\end{array}\\right] =  \\left[\\begin{array}\n",
    "{r}\n",
    "0,01m/s\\\\\n",
    "0,005m/s\\\\\n",
    "\\end{array}\\right]\n",
    "$$\n",
    "\n",
    "La position initiale du point M est définie par :\n",
    "\n",
    "$$\\mathbf [\\overrightarrow{OM}] = \\left[\\begin{array}\n",
    "{r}\n",
    "x_{0}\\\\\n",
    "y_{0}\\\\\n",
    "\\end{array}\\right] =  \\left[\\begin{array}\n",
    "{r}\n",
    "0,1m\\\\\n",
    "0,2m\\\\\n",
    "\\end{array}\\right]\n",
    "$$\n",
    "\n",
    "En cours, nous avons vu que le vecteur vitesse $v_0$ peut se définir de la manière suivant,\n",
    " \n",
    "$$\\overrightarrow{v_0} = \\frac {d \\overrightarrow{OM}}{dt}$$"
   ]
  },
  {
   "cell_type": "markdown",
   "metadata": {},
   "source": [
    "    Nous intégrons les coordonnées constantes de la vitesse pour obtenir la position du point M au cours du temps.\n",
    "$$\\overrightarrow{OM} =  \\int_0^t \\overrightarrow{v_0} dt\n",
    "= \n",
    "\\left[\\begin{array}\n",
    "{r}\n",
    "x\\\\\n",
    "y\\\\\n",
    "\\end{array}\\right] =  \\left[\\begin{array}\n",
    "{r}\n",
    "\\int_0^t v_{0x}  dt\\\\\n",
    "\\int_0^t v_{0y}  dt\\\\\n",
    "\\end{array}\\right] = \\left[\\begin{array}\n",
    "{r}\n",
    "v_{0x} * t + x_0\\\\\n",
    "v_{0y} * t + y_0\\\\\n",
    "\\end{array}\\right]\n",
    "$$"
   ]
  },
  {
   "cell_type": "markdown",
   "metadata": {},
   "source": [
    "Voilà Nous avons les équations du mouvement de l'objet."
   ]
  },
  {
   "cell_type": "markdown",
   "metadata": {},
   "source": [
    "## 3. Méthodologie de tracé\n",
    "Pour tracer la courbe représentative de la loi horaire de x et de y\n",
    "avec Python, on doit :\n",
    "\n",
    "* définir les paramètres physiques  en précisant leurs valeurs numériques;\n",
    "* définir les fonctions x(t): t $\\to v_{0x} * t + x_0$;\n",
    "et y(t): t $\\to v_{0y} * t + y_0$;\n",
    "* préciser l’intervalle de temps [tmin, tmax] sur lequel\n",
    "on désire tracer la courbe;\n",
    "* tracer la courbe et l’afficher."
   ]
  },
  {
   "cell_type": "markdown",
   "metadata": {},
   "source": [
    "## 4. Modules et packages\n",
    "Python est un langage de programmation dont les fonctionnalités\n",
    "peuvent facilement étendues à l’aide de nouvelles\n",
    "instructions. Par défaut, il met à la disposition de\n",
    "l’utilisateur un jeu significativement important d’instructions\n",
    "mais pas toujours suffisant pour des besoins plus\n",
    "spécifiques. Tracer des courbes avec Python entre dans la\n",
    "catégorie des besoins particuliers.\n",
    "Pour étendre les fonctionnalités du langage, de nouvelles\n",
    "commandes peuvent être créées et conservées dans des\n",
    "fichiers particuliers appelés modules. L’intérêt de ces modules\n",
    "est de pouvoir être réutilisés en fonction des besoins.\n",
    "Parfois, des ensembles de modules sont regroupés pour\n",
    "former des packages. Il s’agit simplement d’une hiérarchisation\n",
    "des modules.\n",
    "En pratique, dès qu’un module connu est nécessaire, il\n",
    "doit être importé au début du script grâce à l’instruction\n",
    "import.\n",
    "Dans ce qui suit, le module numpy, dédié au calcul numérique,\n",
    "est importé. Il permet en particulier la manipulation\n",
    "de tableaux multidimensionnels pour stocker des données.\n",
    "Ce module fournit également un grand nombre de fonctions\n",
    "dédiées aux calculs mathématiques 1 et numériques."
   ]
  },
  {
   "cell_type": "code",
   "execution_count": 1,
   "metadata": {},
   "outputs": [],
   "source": [
    "# importation de numpy\n",
    "# alias np\n",
    "import numpy as np"
   ]
  },
  {
   "cell_type": "markdown",
   "metadata": {},
   "source": [
    "Ainsi, dans le script suivant, lemodule pyplot du package\n",
    "matplotlib est importé. Ce module enrichit Python d’un\n",
    "certain nombre de fonctionnalités graphiques dont certaines\n",
    "d’entre elles sont présentées dans la suite de l’activité."
   ]
  },
  {
   "cell_type": "code",
   "execution_count": 2,
   "metadata": {},
   "outputs": [],
   "source": [
    "# importation de matplotlib.pyplot\n",
    "# alias plt\n",
    "import matplotlib.pyplot as plt"
   ]
  },
  {
   "cell_type": "markdown",
   "metadata": {},
   "source": [
    "L’ajout de l’instruction as suivie d’un nom particulier autorise\n",
    "la création d’un alias qui remplace avantageusement\n",
    "le nom du module. Son intérêt réside dans le fait que les\n",
    "instructions des modules sont accessibles par une notation\n",
    "pointée : chaque instruction d’un module donné ne\n",
    "peut être appelée qu’en tapant son nom précédé du nom\n",
    "du module suivi d’un point. Par exemple, pour tracer la\n",
    "courbe d’un tableau de valeurs y en fonction d’un tableau\n",
    "de valeurs x, on code comme suit.\n",
    "plt.plot(x,y)\n",
    "L’affichage de la courbe se fait en codant comme suit.\n",
    "plt.show()\n",
    "Il convient de savoir qu’il est possible d’éviter la définition\n",
    "et l’utilisation d’alias en important globalement toutes les\n",
    "instructions d’un module. Il suffit de réaliser l’import de la\n",
    "manière suivante."
   ]
  },
  {
   "cell_type": "code",
   "execution_count": 3,
   "metadata": {},
   "outputs": [],
   "source": [
    "from matplotlib.pyplot import *\n",
    "from numpy import *"
   ]
  },
  {
   "cell_type": "markdown",
   "metadata": {},
   "source": [
    "Cette importation est à utiliser avec prudence. Certains\n",
    "modules définissent de nouvelles commandes qui portent\n",
    "le même nom que d’autres commandes qui préexistent\n",
    "dans Python. Dès lors, la dernière définition écrase toute\n",
    "autre définition préalable. Ce qui peut présenter des inconvénients.\n",
    "Dans la suite, nous utilisons systématiquement\n",
    "la notation pointée associée à la définition d’alias.\n",
    "## 5. Codage\n",
    "Pour tracer la courbe représentative de la loi horaire de\n",
    "x et de y, les modules nécessaires sont d’abord chargés. Le script\n",
    "suivant permet le tracé de les loi horaires sur un\n",
    "intervalle de temps [0,1s] .\n",
    "\n",
    "On définit ensuite les fonctions qui rendent compte de la loi\n",
    "horaire. Dans le script suivant, ces fonctions sont notées x et y.\n",
    "Trois arguments doivent lui être transmis pour qu’elles\n",
    "renvoient un résultat. Cela permettra de faire tracer des trajectoires\n",
    "en faisant varier les paramètres physiques.\n"
   ]
  },
  {
   "cell_type": "code",
   "execution_count": 4,
   "metadata": {},
   "outputs": [],
   "source": [
    "# fonctions associées à la loi horaire\n",
    "\n",
    "def x(t,v0x,x0):\n",
    "    return v0x*t+x0\n",
    "def y(t,v0y,y0):\n",
    "    return v0y*t+y0\n",
    "\n",
    "    "
   ]
  },
  {
   "cell_type": "markdown",
   "metadata": {},
   "source": [
    "Vient à présent la définition des paramètres physiques,\n",
    "dont les valeurs sont affectées à des variables informatiques.\n",
    "Le nom de ces variables est arbitraire mais il ne\n",
    "peut pas débuter par un chiffre. En pratique, on attribue\n",
    "des noms pertinents au regard du rôle que les variables\n",
    "son censées jouer."
   ]
  },
  {
   "cell_type": "code",
   "execution_count": 5,
   "metadata": {},
   "outputs": [],
   "source": [
    "# paramètres physiques\n",
    "v0x =  0.01 # vitesse initiale selon l'axe x\n",
    "v0y = 0.005 # vitesse initiale selon l'axe y\n",
    "x0 = 0.1 # coordonnées origine de l'objet\n",
    "y0 = 0.2"
   ]
  },
  {
   "cell_type": "markdown",
   "metadata": {},
   "source": [
    "Afin de tracer la loi horaire, on doit se fixer un intervalle de\n",
    "temps. C’est généralement le sens physique qui prévaut\n",
    "pour déterminer cet intervalle. Dans le script qui suit, on\n",
    "choisit des instants compris entre 0 s et 1 s."
   ]
  },
  {
   "cell_type": "code",
   "execution_count": 6,
   "metadata": {},
   "outputs": [],
   "source": [
    "# tracé des trajectoires\n",
    "t_min = 0.0 # instant initial en s\n",
    "t_max = 1.0 # instant final en s\n",
    "n_t = 100 # nombre de points de calculs"
   ]
  },
  {
   "cell_type": "markdown",
   "metadata": {},
   "source": [
    "Pour tracer la loi horaire, on choisit un nombre de points\n",
    "n_t de calculs dans l’intervalle de temps précédent. Il ne\n",
    "reste plus qu’à faire calculer par Python les différents instants\n",
    "équirépartis dans cet intervalle et les valeurs de x et de y\n",
    "associées. L’instruction linspace construit un tableau de\n",
    "n_t instants allant de t_min à t_max. Ce tableau est affecté\n",
    "à la variable tab_t."
   ]
  },
  {
   "cell_type": "code",
   "execution_count": 7,
   "metadata": {},
   "outputs": [],
   "source": [
    "# tableau des instants\n",
    "tab_t = np.linspace(t_min,t_max,n_t)"
   ]
  },
  {
   "cell_type": "markdown",
   "metadata": {},
   "source": [
    "L’une des forces du module numpy est de permettre la\n",
    "construction d’un tableau en appliquant une fonction sur\n",
    "un autre tableau. Le script suivant affecte à la variable\n",
    "tab_x (ou tab_y) le tableau obtenu en appliquant la fonction x (ou y) au\n",
    "tableau tab_t et aux variables v0x et x0. Cette facilité est l’un\n",
    "des points forts de Python pour le calcul scientifique."
   ]
  },
  {
   "cell_type": "code",
   "execution_count": 8,
   "metadata": {},
   "outputs": [],
   "source": [
    "# tableau des x et y\n",
    "tab_x = x(tab_t,v0x,x0)\n",
    "tab_y = y(tab_t,v0y,y0)"
   ]
  },
  {
   "cell_type": "markdown",
   "metadata": {},
   "source": [
    "Il reste à tracer la courbe en portant, dans un système\n",
    "d’axes orthogonaux, les valeurs présentes dans la tableau\n",
    "tab_x en fonction des valeurs présentes dans le tableau\n",
    "tab_t. Noter que le nombre de valeurs dans chaque tableau\n",
    "doit être le même pour que cette opération ait du\n",
    "sens. Ici, nous traçons x en fonction de t."
   ]
  },
  {
   "cell_type": "code",
   "execution_count": 13,
   "metadata": {},
   "outputs": [
    {
     "data": {
      "image/png": "[encoded data removed]",
      "text/plain": [
       "<Figure size 432x288 with 1 Axes>"
      ]
     },
     "metadata": {
      "needs_background": "light"
     },
     "output_type": "display_data"
    }
   ],
   "source": [
    "# tracé de tab_x en fonction de tab_t\n",
    "# option 'r-' : tracé en rouge (r)\n",
    "# en reliant les points (-)\n",
    "plt.plot(tab_t,tab_x,'r-')\n",
    "# affichage de la courbe\n",
    "plt.show()"
   ]
  },
  {
   "cell_type": "markdown",
   "metadata": {},
   "source": [
    "## 6. les manipulations\n",
    "\n",
    "### 6.1 Créations d'un nouveau graphique\n",
    "Sur le graphique précédent, aucune information ne permet\n",
    "de connaître la nature des informations portées sur les\n",
    "axes. Il n’y a également pas de titre, ni d’information sur les\n",
    "valeurs des paramètres h et tmax . Ces information peuvent\n",
    "être ajoutées en faisant précéder l’instruction plt.plot\n",
    "d’un certain nombre d’instructions dédiées à l’affiche de\n",
    "commentaires.\n",
    "\n",
    "------------------\n",
    "Compléter le code suivant afin de tracer la courbe tab_y en fonction de tab_t.\n",
    "\n"
   ]
  },
  {
   "cell_type": "code",
   "execution_count": 18,
   "metadata": {},
   "outputs": [
    {
     "data": {
      "image/png": "[encoded data removed]",
      "text/plain": [
       "<Figure size 432x288 with 1 Axes>"
      ]
     },
     "metadata": {
      "needs_background": "light"
     },
     "output_type": "display_data"
    }
   ],
   "source": [
    "# tracé de tab_x en fonction de tab_t\n",
    "# option 'r-' : tracé en rouge (r)\n",
    "# en reliant les points (-)\n",
    "# Votre code ..................................................................................\n",
    "# affichage de la courbe\n",
    "plt.xlabel('Temps (en seconde)')\n",
    "plt.ylabel('Position y de $M$ (en mètre)')\n",
    "plt.title(\"Mouvement libre sans frottement et sans vitesse initiale\")\n",
    "plt.show()\n"
   ]
  },
  {
   "cell_type": "markdown",
   "metadata": {},
   "source": [
    "### 6.2 un autre graphique\n",
    "\n",
    "Voyons si vous avez tout compris, tracez le graphe y en fonction de x.\n"
   ]
  },
  {
   "cell_type": "code",
   "execution_count": null,
   "metadata": {},
   "outputs": [],
   "source": [
    "# tracé de tab_x en fonction de tab_t\n",
    "# option 'r-' : tracé en rouge (r)\n",
    "# en reliant les points (-)\n",
    "# Votre code ..................................................................................\n",
    "# Votre code ..................................................................................\n",
    "# Votre code ..................................................................................\n",
    "# Votre code ..................................................................................\n",
    "# Votre code ..................................................................................\n",
    "\n",
    "# affichage de la courbe"
   ]
  },
  {
   "cell_type": "markdown",
   "metadata": {},
   "source": [
    "### 6.2 Changement de paramètres\n",
    "\n",
    "Maintenant nous changeons les paramètres initiaux comme suit,\n",
    "\n",
    "Les coordonnées du vecteur vitesse initiales et la position initiale du point M deviennent :\n",
    "\n",
    "\n",
    "$$\\mathbf [\\overrightarrow{v_0}] = \\left[\\begin{array}\n",
    "{r}\n",
    "v_{0x}\\\\\n",
    "v_{0y}\\\\\n",
    "\\end{array}\\right] =  \\left[\\begin{array}\n",
    "{r}\n",
    "0,02m/s\\\\\n",
    "0,00m/s\\\\\n",
    "\\end{array}\\right]\n",
    "$$\n",
    "\n",
    "$$\\mathbf [\\overrightarrow{OM}] = \\left[\\begin{array}\n",
    "{r}\n",
    "x_{0}\\\\\n",
    "y_{0}\\\\\n",
    "\\end{array}\\right] =  \\left[\\begin{array}\n",
    "{r}\n",
    "0,2m\\\\\n",
    "0,2m\\\\\n",
    "\\end{array}\\right]\n",
    "$$\n",
    "\n",
    "Proposer des codes pour prendre en compte de ces changement.\n"
   ]
  },
  {
   "cell_type": "code",
   "execution_count": null,
   "metadata": {},
   "outputs": [],
   "source": [
    "# tracé de tab_x en fonction de tab_t\n",
    "# option 'r-' : tracé en rouge (r)\n",
    "# en reliant les points (-)\n",
    "# Votre code ..................................................................................\n",
    "# Votre code ..................................................................................\n",
    "# Votre code ..................................................................................\n",
    "# Votre code ..................................................................................\n",
    "# Votre code ..................................................................................\n",
    "\n",
    "# affichage de la courbe"
   ]
  },
  {
   "cell_type": "markdown",
   "metadata": {},
   "source": [
    "### 6.3 Changement de la durée des calculs\n",
    "\n",
    "Nous désirons modifier  l' intervalle de temps, pour réaliser des calculs durant 5s.\n",
    "\n",
    "Proposer des codes pour prendre en compte ces changement.\n",
    "\n"
   ]
  },
  {
   "cell_type": "code",
   "execution_count": null,
   "metadata": {},
   "outputs": [],
   "source": [
    "# tracé de tab_x en fonction de tab_t\n",
    "# option 'r-' : tracé en rouge (r)\n",
    "# en reliant les points (-)\n",
    "# Votre code ..................................................................................\n",
    "# Votre code ..................................................................................\n",
    "# Votre code ..................................................................................\n",
    "# Votre code ..................................................................................\n",
    "# Votre code ..................................................................................\n",
    "\n",
    "# affichage de la courbe"
   ]
  },
  {
   "cell_type": "markdown",
   "metadata": {},
   "source": [
    "### 6.4 Changement du nombre des calculs\n",
    "Modifier le nombre de points du tracé\n",
    "pour afficher seulement quelques points de la courbe."
   ]
  },
  {
   "cell_type": "code",
   "execution_count": null,
   "metadata": {},
   "outputs": [],
   "source": [
    "# tracé de tab_x en fonction de tab_t\n",
    "# option 'r-' : tracé en rouge (r)\n",
    "# en reliant les points (-)\n",
    "# Votre code ..................................................................................\n",
    "# Votre code ..................................................................................\n",
    "# Votre code ..................................................................................\n",
    "# Votre code ..................................................................................\n",
    "# Votre code ..................................................................................\n",
    "\n",
    "# affichage de la courbe"
   ]
  },
  {
   "cell_type": "markdown",
   "metadata": {},
   "source": [
    "### 6.4 Affichage de deux courbes\n",
    "\n",
    "Peut-on afficher les courbes x(t) et y(t) sur le même graphe ?\n",
    "Oui ou Non\n",
    "\n",
    "Si oui proposer une solution :"
   ]
  },
  {
   "cell_type": "code",
   "execution_count": null,
   "metadata": {},
   "outputs": [],
   "source": [
    "# tracé de tab_x en fonction de tab_t\n",
    "# option 'r-' : tracé en rouge (r)\n",
    "# en reliant les points (-)\n",
    "# Votre code ..................................................................................\n",
    "# Votre code ..................................................................................\n",
    "# Votre code ..................................................................................\n",
    "# Votre code ..................................................................................\n",
    "# Votre code ..................................................................................\n",
    "\n",
    "# affichage de la courbe"
   ]
  }
 ],
 "metadata": {
  "kernelspec": {
   "display_name": "Python 3",
   "language": "python",
   "name": "python3"
  },
  "language_info": {
   "codemirror_mode": {
    "name": "ipython",
    "version": 3
   },
   "file_extension": ".py",
   "mimetype": "text/x-python",
   "name": "python",
   "nbconvert_exporter": "python",
   "pygments_lexer": "ipython3",
   "version": "3.7.6"
  }
 },
 "nbformat": 4,
 "nbformat_minor": 4
}
